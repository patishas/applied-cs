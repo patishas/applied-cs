{
 "cells": [
  {
   "cell_type": "markdown",
   "metadata": {},
   "source": [
    "Please run the cell below to import libraries needed for this HW. Please use the autograd numpy, otherwise you will have issues. Please remember to always use the np library for mathematical functions (e.g., np.log, np.exp, np.sum, etc)"
   ]
  },
  {
   "cell_type": "code",
   "execution_count": 1,
   "metadata": {},
   "outputs": [],
   "source": [
    "import autograd.numpy as np\n",
    "from autograd import grad \n",
    "import matplotlib.pyplot as plt\n",
    "%matplotlib inline"
   ]
  },
  {
   "cell_type": "markdown",
   "metadata": {},
   "source": [
    "Q1) [5 points] Implement the sigmod funcation discussed in class. The function takes a value, x, as input and returns the sigmoid function applied to the value."
   ]
  },
  {
   "cell_type": "code",
   "execution_count": 2,
   "metadata": {},
   "outputs": [],
   "source": [
    "def sigmoid(x):\n",
    "    y = 1/(1+np.exp(-x))\n",
    "    return y"
   ]
  },
  {
   "cell_type": "markdown",
   "metadata": {},
   "source": [
    "Q2) [20 points] Implement the logistic regression cross entropy cost discussed in class. Note that the logistic regression cross entropy cost relies on the sigmoid function (which you have implemented above) and the linear  model (which you have implemented in HW2). You can use the linear model from HW2 for this problem. Similar to the least-squares cost from HW2, the cross entropy cost takes in as input an array of weights, w, an array of x's and an array of ys and return a float indicating the total cost. Again, the logistic regression cross entropy function should use the sigmoid and model functions already implemented."
   ]
  },
  {
   "cell_type": "code",
   "execution_count": 3,
   "metadata": {},
   "outputs": [],
   "source": [
    "#Your linear model from HW2\n",
    "def model(x,w):\n",
    "    y = x*w[1]+w[0] # y=w_0+w_1x\n",
    "    return y\n",
    "\n",
    "#The logistic regression cross entropy cost\n",
    "def LR_cross_entropy(w,x,y):\n",
    "    epsilon = 0.000001 #to prevent taking log(0)\n",
    "    sum = np.sum(y*np.log(sigmoid(model(x,w)) + epsilon)+(1-y)*np.log(1-sigmoid(model(x,w))+epsilon))\n",
    "    cost = -sum/x.size\n",
    "    return cost"
   ]
  },
  {
   "cell_type": "markdown",
   "metadata": {},
   "source": [
    "Q3) [2 points] Run the code below to read a data file. Plot a scatter plot of x vs y."
   ]
  },
  {
   "cell_type": "code",
   "execution_count": 4,
   "metadata": {},
   "outputs": [
    {
     "data": {
      "text/plain": [
       "Text(0, 0.5, 'y')"
      ]
     },
     "execution_count": 4,
     "metadata": {},
     "output_type": "execute_result"
    },
    {
     "data": {
      "image/png": "[encoded data removed]",
      "text/plain": [
       "<Figure size 432x288 with 1 Axes>"
      ]
     },
     "metadata": {
      "needs_background": "light"
     },
     "output_type": "display_data"
    }
   ],
   "source": [
    "csvname = '2d_classification_data_v1_entropy.csv'\n",
    "data = np.loadtxt(csvname,delimiter = ',')\n",
    "x = data[:-1,:]\n",
    "y = data[-1:,:] \n",
    "\n",
    "plt.scatter(x, y)\n",
    "plt.xlabel('x')\n",
    "plt.ylabel('y')"
   ]
  },
  {
   "cell_type": "markdown",
   "metadata": {},
   "source": [
    "Q4) [10 points] Move the gradient descent function from HW2. Run the function using the cross_entropy cost and the x and y from above. The parameters should be set to: max_its=2000,w=[3.0,3.0 ], and alpha=1. Save the cost and weight history returned by the gradient descent function. Plot the cost history.\n"
   ]
  },
  {
   "cell_type": "code",
   "execution_count": 5,
   "metadata": {},
   "outputs": [],
   "source": [
    "##gradient descent from HW2\n",
    "def gradient_descent(g,alpha,max_its,w,x,y):\n",
    "    gradient = grad(g)   ## This is how you use the autograd library to find the gradient of a function  \n",
    "    \n",
    "    weight_history = []\n",
    "    cost_history = []\n",
    "    weight_history.append(w)\n",
    "    cost_history.append(g(w,x,y))\n",
    "    \n",
    "    for k in range(max_its):\n",
    "        w = w - alpha*gradient(w,x,y)\n",
    "        weight_history.append(w)\n",
    "        cost_history.append(g(w,x,y)) # log error cost function\n",
    "    \n",
    "    return weight_history,cost_history"
   ]
  },
  {
   "cell_type": "code",
   "execution_count": 6,
   "metadata": {},
   "outputs": [
    {
     "data": {
      "text/plain": [
       "Text(0.5, 1.0, 'Cost History using Log Error Cost')"
      ]
     },
     "execution_count": 6,
     "metadata": {},
     "output_type": "execute_result"
    },
    {
     "data": {
      "image/png": "[encoded data removed]",
      "text/plain": [
       "<Figure size 432x288 with 1 Axes>"
      ]
     },
     "metadata": {
      "needs_background": "light"
     },
     "output_type": "display_data"
    }
   ],
   "source": [
    "##Call the gradient_descent function here\n",
    "\n",
    "g = LR_cross_entropy\n",
    "alpha = 1\n",
    "max_its = 2000\n",
    "w=np.array([3.0,3.0])\n",
    "\n",
    "weight_history,cost_history = gradient_descent(g, alpha, max_its, w, x, y)\n",
    "\n",
    "##Plot the cost history here\n",
    "x_runs = list(range(max_its+1))\n",
    "plt.plot(x_runs, cost_history)\n",
    "\n",
    "plt.xlabel('step number')\n",
    "plt.ylabel('cost')\n",
    "plt.title(\"Cost History using Log Error Cost\")"
   ]
  },
  {
   "cell_type": "markdown",
   "metadata": {},
   "source": [
    "Q5) [10 points] Implement a logistic regression classifier that takes in the learned weights and x as input and returns the probability of the positive class (note that this is just the output of the sigmoid applied to the linear combination of the x and w)"
   ]
  },
  {
   "cell_type": "code",
   "execution_count": 7,
   "metadata": {},
   "outputs": [],
   "source": [
    "def logistic_regression(learned_w,x):\n",
    "    positive_class_prob = sigmoid(model(x,learned_w))\n",
    "    return positive_class_prob"
   ]
  },
  {
   "cell_type": "markdown",
   "metadata": {},
   "source": [
    "Q6) [5 points] Use the learned weights from the last gradient descent run and the logistic regression function implemented above to plot the learned curve. You can use the linspace method (shown below) to generate a list of xs that you can use. You need to generate a y for each of the candidate xs using the logistic regression function and the learned weights. On the same figure, also plot the scatter plot from Q3. \n"
   ]
  },
  {
   "cell_type": "code",
   "execution_count": 8,
   "metadata": {},
   "outputs": [
    {
     "data": {
      "text/plain": [
       "Text(0.5, 1.0, 'Logistic regression function with learned weights')"
      ]
     },
     "execution_count": 8,
     "metadata": {},
     "output_type": "execute_result"
    },
    {
     "data": {
      "image/png": "[encoded data removed]",
      "text/plain": [
       "<Figure size 432x288 with 1 Axes>"
      ]
     },
     "metadata": {
      "needs_background": "light"
     },
     "output_type": "display_data"
    }
   ],
   "source": [
    "s = np.linspace(np.min(x),np.max(x))\n",
    "learned_w = weight_history[len(weight_history)-1]\n",
    "y_predicted = logistic_regression(learned_w,s)\n",
    "plt.plot(s,y_predicted) # plot logistic regression function\n",
    "plt.scatter(x,y) # plot original data\n",
    "\n",
    "plt.xlabel('x')\n",
    "plt.ylabel('y')\n",
    "plt.title(\"Logistic regression function with learned weights\")"
   ]
  },
  {
   "cell_type": "markdown",
   "metadata": {},
   "source": [
    "Q7) [5 points] Slightly modify the logistic regression model above so that it returns a 1 or 0 based on the specified threshold."
   ]
  },
  {
   "cell_type": "code",
   "execution_count": 9,
   "metadata": {},
   "outputs": [],
   "source": [
    "def logistic_regression_modified(learned_w,x, threshold):\n",
    "    positive_class_prob = sigmoid(model(x,learned_w))\n",
    "    positive_class_prob[positive_class_prob>threshold]=1\n",
    "    positive_class_prob[positive_class_prob<threshold]=0\n",
    "    positive_class_prob[positive_class_prob==threshold]=np.random.randint(0,2)\n",
    "    return positive_class_prob"
   ]
  },
  {
   "cell_type": "markdown",
   "metadata": {},
   "source": [
    "Q8) [15 points] Write a function (called evaluate) that takes in actual and predicted ys (for a binary classification problem) and return a confusion matrix and the accuracy. Use the modified logistic regression model and the evaluate function below to report the confusion matrix and accuracy for the x and y used for our training at a threshold of 0.5.  "
   ]
  },
  {
   "cell_type": "code",
   "execution_count": 10,
   "metadata": {},
   "outputs": [
    {
     "name": "stdout",
     "output_type": "stream",
     "text": [
      "confusion matrix:\n",
      "[[6 0]\n",
      " [0 5]]\n",
      "\n",
      "Accuracy: 1.0\n"
     ]
    }
   ],
   "source": [
    "def evaluate(y_actual,y_pred):\n",
    "    true_positive = 0\n",
    "    true_negative = 0\n",
    "    false_positive = 0\n",
    "    false_negative = 0\n",
    "    for act, pred in zip(y_actual[0],y_pred[0]):\n",
    "        if act == 1 and pred == 1:\n",
    "            true_positive+=1\n",
    "        elif act == 0 and pred == 0:\n",
    "            true_negative+=1\n",
    "        elif act == 0 and pred == 1:\n",
    "            false_positive+=1\n",
    "        else:\n",
    "            false_negative+=1\n",
    "    \n",
    "    accuracy = (true_positive+true_negative)/(true_positive+true_negative+false_positive+false_negative)\n",
    "    \n",
    "    return false_positive, false_negative, true_positive, true_negative, accuracy\n",
    "\n",
    "y_pred = logistic_regression_modified(learned_w,x,0.5)\n",
    "C,B,A,D,acc = evaluate(y, y_pred)\n",
    "confusion_matrix = np.array([[A,B],[C,D]])\n",
    "\n",
    "print(\"confusion matrix:\")\n",
    "print(confusion_matrix)\n",
    "\n",
    "print(\"\\nAccuracy: \" + str(acc))"
   ]
  },
  {
   "cell_type": "markdown",
   "metadata": {},
   "source": [
    "Q9) [20 points] Implement the perceptron cost function from the class (the softmax version). Note that the perceptron cost also uses the linear model (the model function from question 2)."
   ]
  },
  {
   "cell_type": "code",
   "execution_count": 11,
   "metadata": {},
   "outputs": [],
   "source": [
    "def perceptron_cost(w,x,y):    \n",
    "    sum = np.sum(np.log(1+np.exp(-y*model(x,w))))\n",
    "    cost = sum/x.size\n",
    "    return cost"
   ]
  },
  {
   "cell_type": "markdown",
   "metadata": {},
   "source": [
    "Q10) [10 points] Run gradient descent function using the perceptron cost and the x and y from above and the parameters set to: max_its=2000,w=[1.0,1.0], and alpha=10. Save the cost and weight history returned by the gradient descent function. Plot the cost history. Which cost seems to do better on this dataset? Why do think that is?\n"
   ]
  },
  {
   "cell_type": "code",
   "execution_count": 12,
   "metadata": {},
   "outputs": [
    {
     "data": {
      "text/plain": [
       "Text(0.5, 1.0, 'Cost History using Perceptron Cost')"
      ]
     },
     "execution_count": 12,
     "metadata": {},
     "output_type": "execute_result"
    },
    {
     "data": {
      "image/png": "[encoded data removed]",
      "text/plain": [
       "<Figure size 432x288 with 1 Axes>"
      ]
     },
     "metadata": {
      "needs_background": "light"
     },
     "output_type": "display_data"
    }
   ],
   "source": [
    "##Call the gradient_descent function here\n",
    "g = perceptron_cost\n",
    "alpha = 10\n",
    "max_its = 2000\n",
    "w=np.array([1.0,1.0])\n",
    "\n",
    "weight_history,cost_history = gradient_descent(g, alpha, max_its, w, x, y)\n",
    "\n",
    "##Plot the cost history here\n",
    "\n",
    "x_runs = list(range(max_its+1))\n",
    "plt.plot(x_runs, cost_history)\n",
    "\n",
    "plt.xlabel('step number')\n",
    "plt.ylabel('cost')\n",
    "plt.title(\"Cost History using Perceptron Cost\")"
   ]
  },
  {
   "cell_type": "markdown",
   "metadata": {},
   "source": [
    "I would argue that the perceptron cost seems to do better than the log error cost for this dataset, converging to the minimum in fewer iterations. Though this may be due to the use of a higher alpha (a=10 for perceptron vs a=1 for log error), it is also likely due to the fact that the perceptron includes the exponential function inside the cost.\n",
    "\n",
    "The log error does not perform poorly, however. In fact, it performs quite similarly, still reaching the minimum relatively quickly and having a similar L-shape, something to be expected since both functions utilize the log to harshly penalize misclassifications. The log error does seem to have something going for it however in that it does seem to more harshly penalize misclassifications. Its cost when there were a large number of misclassifications (around step 0) is around 1.5 greater than the minimum whereas for the perceptron cost it was only around 0.02 greater than the minimum.\n",
    "\n",
    "One might alternatively argue that we should look at the minimum cost (log error has the lower minimum cost in this scenario), but I would argue that it is not fair to compare the minimum costs since each cost is calculated in a different way. Generally, both log error and perceptron return the same boundary, just from different approaches, thus generating different costs. It has no reflection on which generated the better model (this would only later be tested by counting classifications/misclassifications in a confusion matrix)."
   ]
  },
  {
   "cell_type": "markdown",
   "metadata": {},
   "source": [
    "## The rest of these problems are for bonus points"
   ]
  },
  {
   "cell_type": "markdown",
   "metadata": {},
   "source": [
    "Q11) [2 points]  The file 'heart.csv' has 304 lines, each one corresponding to a data point. Each row (i.e., data point), has several columns. Read the data file. Note that the first line is the header describing each column."
   ]
  },
  {
   "cell_type": "code",
   "execution_count": 13,
   "metadata": {},
   "outputs": [],
   "source": [
    "csvname = 'heart.csv'\n",
    "data = np.loadtxt(csvname,delimiter = ',',skiprows=1)"
   ]
  },
  {
   "cell_type": "markdown",
   "metadata": {},
   "source": [
    "Q12) [2 points] Use the data above to set y to be the \"target\" and X to be the remaining columns."
   ]
  },
  {
   "cell_type": "code",
   "execution_count": 14,
   "metadata": {},
   "outputs": [],
   "source": [
    "X=data[:,:13]\n",
    "y=data[:,13]"
   ]
  },
  {
   "cell_type": "markdown",
   "metadata": {},
   "source": [
    "Q13) [2 points] Run the code below to import the logistic regression and the train_test split functions from sklearn. Split your data into 80% train 20% test."
   ]
  },
  {
   "cell_type": "code",
   "execution_count": 15,
   "metadata": {},
   "outputs": [],
   "source": [
    "from sklearn.linear_model import LogisticRegression\n",
    "from sklearn.model_selection import train_test_split \n",
    "\n",
    "X_train, X_test, y_train, y_test = train_test_split(X, y, test_size=0.2, random_state=42)"
   ]
  },
  {
   "cell_type": "markdown",
   "metadata": {},
   "source": [
    "Q14) [5 points] Use sklearn to fit a logistic regression model on your training set. Use all the default parameter. Do not evaluate at this point. (You can find out about sklearn logistic regression here: https://scikit-learn.org/stable/modules/generated/sklearn.linear_model.LogisticRegression.html)"
   ]
  },
  {
   "cell_type": "code",
   "execution_count": 16,
   "metadata": {},
   "outputs": [],
   "source": [
    "clf = LogisticRegression(max_iter=1000).fit(X_train, y_train) #for testing set to randomstate=0"
   ]
  },
  {
   "cell_type": "markdown",
   "metadata": {},
   "source": [
    "Q15) [5 points] Use the .predict_proba function of the logistic regression model that you have learned on your X_test. Note that the .predict_proba function returns an array of tuples where each element corresponds to the predicted probability for class 0 and 1 of the data point."
   ]
  },
  {
   "cell_type": "code",
   "execution_count": 17,
   "metadata": {},
   "outputs": [],
   "source": [
    "predicted_prob = clf.predict_proba(X_test)"
   ]
  },
  {
   "cell_type": "markdown",
   "metadata": {},
   "source": [
    "Q16) [2 points] Filter the predicted probabilties from the last question to an array containing only the probabilites for class 1. I.e., you should no longer have tuples."
   ]
  },
  {
   "cell_type": "code",
   "execution_count": 18,
   "metadata": {},
   "outputs": [],
   "source": [
    "pred_pos = predicted_prob[:,1]"
   ]
  },
  {
   "cell_type": "markdown",
   "metadata": {},
   "source": [
    "Q17) [8 points] Use the roc_curve function from sklearn (https://scikit-learn.org/stable/modules/generated/sklearn.metrics.roc_curve.html) to plot the ROC curve for your predictions using the predicted probabilities for class 1 and your y_test (use the default parameters). Also, print out the thresholds generated by the roc_curve function."
   ]
  },
  {
   "cell_type": "code",
   "execution_count": 19,
   "metadata": {},
   "outputs": [
    {
     "name": "stdout",
     "output_type": "stream",
     "text": [
      "Thresholds:\n",
      "[1.98827322e+00 9.88273221e-01 8.90575842e-01 8.86246815e-01\n",
      " 8.06847909e-01 7.79225530e-01 7.17070795e-01 6.90427028e-01\n",
      " 6.73170624e-01 6.69243312e-01 4.96699699e-01 1.90117951e-01\n",
      " 9.75863976e-02 6.69118629e-02 6.03901012e-02 4.47157751e-02\n",
      " 4.19208731e-02 1.18473242e-03]\n"
     ]
    },
    {
     "data": {
      "text/plain": [
       "Text(0.5, 1.0, 'ROC Curve')"
      ]
     },
     "execution_count": 19,
     "metadata": {},
     "output_type": "execute_result"
    },
    {
     "data": {
      "image/png": "[encoded data removed]",
      "text/plain": [
       "<Figure size 432x288 with 1 Axes>"
      ]
     },
     "metadata": {
      "needs_background": "light"
     },
     "output_type": "display_data"
    }
   ],
   "source": [
    "##Your code here\n",
    "from sklearn import metrics\n",
    "fpr, tpr, thresholds = metrics.roc_curve(y_test, pred_pos)\n",
    "print(\"Thresholds:\")\n",
    "print(thresholds)\n",
    "\n",
    "plt.plot(fpr,tpr)\n",
    "\n",
    "plt.xlabel('False positive rate')\n",
    "plt.ylabel('True positive rate')\n",
    "plt.title(\"ROC Curve\")"
   ]
  },
  {
   "cell_type": "markdown",
   "metadata": {},
   "source": [
    "Q18) [2 points] Use the roc_auc_score function from sklearn (https://scikit-learn.org/stable/modules/generated/sklearn.metrics.roc_auc_score.html#sklearn.metrics.roc_auc_score) to report the AUC score using the exact same setup as the last question."
   ]
  },
  {
   "cell_type": "code",
   "execution_count": 20,
   "metadata": {},
   "outputs": [
    {
     "name": "stdout",
     "output_type": "stream",
     "text": [
      "AUC: 0.9267241379310345\n",
      "\n",
      "Means it is 0.4267241379310345 better than random chance\n"
     ]
    }
   ],
   "source": [
    "##Your code here\n",
    "auc = metrics.roc_auc_score(y_test, pred_pos)\n",
    "print(\"AUC: \"+str(auc))\n",
    "print(\"\\nMeans it is \" + str(auc-0.5) + \" better than random chance\")"
   ]
  },
  {
   "cell_type": "code",
   "execution_count": null,
   "metadata": {},
   "outputs": [],
   "source": []
  }
 ],
 "metadata": {
  "kernelspec": {
   "display_name": "Python 3",
   "language": "python",
   "name": "python3"
  },
  "language_info": {
   "codemirror_mode": {
    "name": "ipython",
    "version": 3
   },
   "file_extension": ".py",
   "mimetype": "text/x-python",
   "name": "python",
   "nbconvert_exporter": "python",
   "pygments_lexer": "ipython3",
   "version": "3.8.5"
  }
 },
 "nbformat": 4,
 "nbformat_minor": 2
}
