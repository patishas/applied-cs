{
 "cells": [
  {
   "cell_type": "markdown",
   "metadata": {},
   "source": [
    "# Inverse Kinematics using Newton's Method\n",
    "\n",
    "### CS70 — Foundations of Applied Computer Science\n",
    "---\n",
    "\n",
    "This notebook contains literate code, i.e. brief fragments of Python surrounded by descriptive text (using Markdown)."
   ]
  },
  {
   "cell_type": "markdown",
   "metadata": {},
   "source": [
    "## Import statements"
   ]
  },
  {
   "cell_type": "code",
   "execution_count": 1,
   "metadata": {
    "execution": {
     "iopub.execute_input": "2021-01-07T22:55:10.822585Z",
     "iopub.status.busy": "2021-01-07T22:55:10.821691Z",
     "iopub.status.idle": "2021-01-07T22:55:11.411663Z",
     "shell.execute_reply": "2021-01-07T22:55:11.412174Z"
    }
   },
   "outputs": [],
   "source": [
    "import bqplot as bqp\n",
    "import numpy as np\n",
    "import scipy.linalg as la\n",
    "\n",
    "# New: Optimization package\n",
    "import scipy.optimize as opt\n",
    "\n",
    "# bqplot plotting library\n",
    "import bqplot as bqp\n",
    "\n",
    "# Import graphical user interface components used below\n",
    "from ipywidgets import interact\n",
    "from ipywidgets import FloatSlider, VBox"
   ]
  },
  {
   "cell_type": "markdown",
   "metadata": {},
   "source": [
    "\n",
    "## Part 1: Forward Kinematics\n",
    "\n",
    "Consider the mathematics of a very simple kind of \"skeleton\": a chain of bones in two dimensions with joint positions $p_i = (x_i, y_i)$. The first joint is rigidly attached to the origin (i.e. $p_0 = (0, 0)$) while the other joints and bones are free to move in any way. For simplicitly, we also assume that all of the bones have the same length $l_1=l_2=\\ldots=1$.\n",
    "\n",
    "![](images/inverse-kinematics-01.png)\n",
    "\n",
    "Each parameter $\\theta_i\\in[0,2\\pi]$ specifies the counter-clockwise angle that the associated bone from joint $p_{i-1}$ to joint $p_i$ makes with its predecessor bone (the pair of bones are parallel if $\\theta_i=0$). The first bone doesn't have a predecessor, hence $\\theta_1$ is measured relative to the $X$ axis. Note how the complete set of bone angles $\\theta_1, \\theta_2, \\ldots$ is all the information we need to compute the precise positions of all the joint positions in Euclidean space.\n",
    "\n",
    "Forward kinematics (FK) is defined (per lecture) as the problem of converting a set of bone angles $\\theta_i$ into joint positions $p_i$. Since $p_i$ depends on all of the preceding angles, we can think of each joint position as a function $p_i=p(\\theta_1,\\ldots,\\theta_{i})$ \n",
    "\n",
    "\n",
    "\n",
    "\n",
    "The function `chain_simple` solves the forward kinematics for a chain with at most one bone. The function takes an array of angles as a parameter, which can be of length 0 or 1 (use the Python `len()` function to query the length of an array). When no angles are specified, the function returns the position of the first joint $(x_0,y_0)=(0, 0)$ as an 1D NumPy array. When a single angle is specified, it returns the position $x_1, y_1$.\n",
    "\n"
   ]
  },
  {
   "cell_type": "code",
   "execution_count": 2,
   "metadata": {
    "execution": {
     "iopub.execute_input": "2021-01-07T22:55:11.419366Z",
     "iopub.status.busy": "2021-01-07T22:55:11.418661Z",
     "iopub.status.idle": "2021-01-07T22:55:11.421143Z",
     "shell.execute_reply": "2021-01-07T22:55:11.421686Z"
    }
   },
   "outputs": [
    {
     "name": "stdout",
     "output_type": "stream",
     "text": [
      "chain_simple: [0. 0.]\n",
      "reference:    [0. 0.]\n",
      "\n",
      "chain_simple: [1. 0.]\n",
      "reference:    [1. 0.]\n",
      "\n",
      "chain_simple: [0.70710678 0.70710678]\n",
      "reference:    [0.70710678 0.70710678]\n"
     ]
    }
   ],
   "source": [
    "def chain_simple(theta):\n",
    "    length = len(theta)\n",
    "    if length == 0: # return (0,0) if no angles specified\n",
    "        return np.array([0.,0.])\n",
    "    angle = theta[0]\n",
    "    res = np.array([np.cos(angle), np.sin(angle)]) # x,y change for angle\n",
    "    return res\n",
    "\n",
    "# TESTS\n",
    "print('chain_simple:', chain_simple([]))\n",
    "print('reference:   ', np.array([0.,0.]))\n",
    "print()\n",
    "print('chain_simple:', chain_simple([0.]))\n",
    "print('reference:   ', np.array([1., 0.])) # note all bone lengths are 1\n",
    "print()\n",
    "print('chain_simple:', chain_simple([np.pi / 4]))\n",
    "print('reference:   ', np.array([ 0.70710678,  0.70710678]))\n"
   ]
  },
  {
   "cell_type": "markdown",
   "metadata": {},
   "source": [
    "## 1.1 Helper function\n",
    "\n",
    "The function ``fk_demo()`` below was provided by the TA's to interactively explore the possible chain configurations via forward kinematics. The implementation uses the ``bqplot`` library mentioned above and is fairly technical and beyond the scope of this class."
   ]
  },
  {
   "cell_type": "code",
   "execution_count": 3,
   "metadata": {
    "execution": {
     "iopub.execute_input": "2021-01-07T22:55:11.431388Z",
     "iopub.status.busy": "2021-01-07T22:55:11.424503Z",
     "iopub.status.idle": "2021-01-07T22:55:11.433099Z",
     "shell.execute_reply": "2021-01-07T22:55:11.433611Z"
    }
   },
   "outputs": [],
   "source": [
    "def fk_demo(chain_func, theta, extra = [[],[]]):\n",
    "    '''\n",
    "    This function visualizes the configuration of a chain of bones\n",
    "    and permits interactive changes to its state. It expects two arguments:\n",
    "    \n",
    "    ``chain_func``: a function that implements forward kinematics by\n",
    "    turning a sequence of angles (theta_1, theta_2, ..., theta_n) into\n",
    "    the position of the last joint of this chain (x_n, y_n).\n",
    "    \n",
    "    ``theta``: an array with the initial angles of all joints\n",
    "    \n",
    "    ``extra``: An optional argument which can be used to plot\n",
    "    additional points that are highlighted in red\n",
    "    '''\n",
    "    \n",
    "    # Function which repeatedly calls ``chain_func`` to compute all joint positions\n",
    "    def chain_all(theta):\n",
    "        return np.column_stack([chain_func(theta[:i]) for i in range(0, len(theta) + 1)])\n",
    "\n",
    "    # Determine size and initial configuration\n",
    "    size = len(theta)\n",
    "    positions = chain_all(theta)\n",
    "\n",
    "    # Define the range of the plotting frame\n",
    "    scales = { 'x': bqp.LinearScale(min=-size-1, max=size+1),\n",
    "               'y': bqp.LinearScale(min=-size-1, max=size+1) }\n",
    "\n",
    "    # Create a scatter plot (for joints), a line plot (for bones), and\n",
    "    # another scatter plot (to draw extra points specified the ``extra`` argument)\n",
    "    scat  = bqp.Scatter(scales=scales)\n",
    "    lines = bqp.Lines(scales=scales)\n",
    "    scat2 = bqp.Scatter(scales=scales, default_colors=['red'])\n",
    "\n",
    "    # Create a figure that combines the three plots\n",
    "    figure = bqp.Figure(marks=[scat, scat2, lines])\n",
    "    figure.layout.height = '500px'\n",
    "    figure.layout.width = '500px'\n",
    "\n",
    "    # Initialize the plots with the initial data\n",
    "    scat.x, scat.y = positions\n",
    "    lines.x, lines.y = positions\n",
    "    scat2.x, scat2.y = extra\n",
    "    \n",
    "    sliders = []\n",
    "    \n",
    "    # For each angle theta_i,\n",
    "    for i in range(len(theta)):\n",
    "        # Create a graphical slider\n",
    "        slider = FloatSlider(min=0, max=2*np.pi, value=theta[i], step=1e-3)\n",
    "        \n",
    "        # Define a callback function that will be triggered when the slider is moved\n",
    "        def callback(value, i = i):\n",
    "            theta[i] = value['new']\n",
    "            positions = chain_all(theta)\n",
    "            scat.x, scat.y = positions\n",
    "            lines.x, lines.y = positions\n",
    "\n",
    "        # \"Attach\" the callback function to the slider\n",
    "        slider.observe(callback, 'value')\n",
    "        sliders.append(slider)\n",
    "\n",
    "    # Combine the plots and sliders in a vertical arrangement\n",
    "    return VBox([*sliders, figure])"
   ]
  },
  {
   "cell_type": "markdown",
   "metadata": {},
   "source": [
    "## 1.2 Visualization of the forward kinematics\n",
    "\n",
    "\n",
    "\n",
    "We can ensure that the implementation of `chain_simple` satisfies all the specifications by invoking the `fk_demo()` function with arguments `chain_simple` and ``[0.]`` (the initial parameters of a flat chain). We can then drag a slider from 0 to $2\\pi$ and see a visual representation of a 1-bone chain turning counter-clockwise.\n"
   ]
  },
  {
   "cell_type": "code",
   "execution_count": 4,
   "metadata": {
    "execution": {
     "iopub.execute_input": "2021-01-07T22:55:11.437504Z",
     "iopub.status.busy": "2021-01-07T22:55:11.436731Z",
     "iopub.status.idle": "2021-01-07T22:55:11.439373Z",
     "shell.execute_reply": "2021-01-07T22:55:11.438840Z"
    }
   },
   "outputs": [
    {
     "data": {
      "application/vnd.jupyter.widget-view+json": {
       "model_id": "1ea5f043b1e74f5c88559479301a878b",
       "version_major": 2,
       "version_minor": 0
      },
      "text/plain": [
       "VBox(children=(FloatSlider(value=0.0, max=6.283185307179586, step=0.001), Figure(fig_margin={'top': 60, 'botto…"
      ]
     },
     "metadata": {},
     "output_type": "display_data"
    }
   ],
   "source": [
    "fk_demo(chain_simple, [0.])\n"
   ]
  },
  {
   "cell_type": "markdown",
   "metadata": {},
   "source": [
    "## 1.3 Longer chains\n",
    "\n",
    "\n",
    "\n",
    "The function `chain` solves the forward kinematics for an arbitrarily long sequence of bones. The function takes an arbitrary-length array of angles as a parameter. When no angles are specified, the function returns the position $(x_0, y_0)$ as before. When $i$ angles are specified, it (only) returns the joint position $(x_{i}, y_{i})$. We use recursion which allows for a particularly simple implementation.\n"
   ]
  },
  {
   "cell_type": "code",
   "execution_count": 5,
   "metadata": {
    "execution": {
     "iopub.execute_input": "2021-01-07T22:55:11.445040Z",
     "iopub.status.busy": "2021-01-07T22:55:11.444345Z",
     "iopub.status.idle": "2021-01-07T22:55:11.447059Z",
     "shell.execute_reply": "2021-01-07T22:55:11.447571Z"
    }
   },
   "outputs": [
    {
     "name": "stdout",
     "output_type": "stream",
     "text": [
      "chain:      [3.31597858 1.80146708]\n",
      "reference:  [3.31597858 1.80146708]\n",
      "\n",
      "chain:      [ 0.0000000e+00 -2.4492936e-16]\n",
      "reference:  [0 0]\n"
     ]
    }
   ],
   "source": [
    "def chain(theta):\n",
    "    length = len(theta)\n",
    "    if length == 0: # end case\n",
    "        return np.array([0.,0.])\n",
    "    angle = theta[0] # gets current angle\n",
    "    res = np.array([np.cos(angle), np.sin(angle)]) # x,y change for current angle\n",
    "    mod_array = theta[1:] # removes processed angle\n",
    "    if len(mod_array)!=0:\n",
    "        mod_array[0] += angle # adjusts next angle based on current angle\n",
    "    return res + chain(mod_array) # recurses through\n",
    "\n",
    "# TESTS\n",
    "print('chain:     ', chain([0.1, 0.2, 0.3, 0.4]))\n",
    "print('reference: ', np.array([ 3.31597858,  1.80146708]))\n",
    "print()\n",
    "print('chain:     ', chain([np.pi, np.pi, np.pi, np.pi]))\n",
    "print('reference: ', np.array([0, 0]))\n"
   ]
  },
  {
   "cell_type": "markdown",
   "metadata": {},
   "source": [
    "## 1.4 Attempting to reach a certain position\n",
    "\n",
    "Running the command `fk_demo(chain, [0, 0, 0, 0, 0], [[-2], [3]])` below we see a chain with five segments and five corresponding sliders, as well as an additional point highlighted in red.\n",
    "\n",
    "\n",
    "\n",
    "The following is a configuration of angles that brings the endpoint of the chain as close as possible to the highlighted location `[-2, 3]]`. These parameters were copied into the argment list of the `fk_demo` function call.\n",
    "\n"
   ]
  },
  {
   "cell_type": "code",
   "execution_count": 6,
   "metadata": {
    "execution": {
     "iopub.execute_input": "2021-01-07T22:55:11.451169Z",
     "iopub.status.busy": "2021-01-07T22:55:11.450421Z",
     "iopub.status.idle": "2021-01-07T22:55:11.452381Z",
     "shell.execute_reply": "2021-01-07T22:55:11.452878Z"
    }
   },
   "outputs": [
    {
     "data": {
      "application/vnd.jupyter.widget-view+json": {
       "model_id": "9b16f9ed1b3c4e25baf25b326fda81f8",
       "version_major": 2,
       "version_minor": 0
      },
      "text/plain": [
       "VBox(children=(FloatSlider(value=0.8, max=6.283185307179586, step=0.001), FloatSlider(value=0.85, max=6.283185…"
      ]
     },
     "metadata": {},
     "output_type": "display_data"
    }
   ],
   "source": [
    "fk_demo(chain, [0.80, 0.85, 0.70, 0.38, 0.28], [[-2], [3]])\n"
   ]
  },
  {
   "cell_type": "markdown",
   "metadata": {},
   "source": [
    "# Part 2: Inverse Kinematics\n",
    "\n",
    "Reasoning from Professor: Problems similar to the one in Section 1.4 are tedious to solve by hand: all of the parameters are interdependent and must be adjusted in a coordinated manner. So-called *inverse kinematics* techniques apply numerical root finding to determine solutions to this problem in an automated way. Most modern animation systems have builtin support for inverse kinematics since it allows for a much more convenient workflow: rather than having to tweak each individual bone, artists can directly specify a target shape, and the system will automatically infer all the necessary rotations.\n",
    "\n",
    "In this part of the project, we will use inverse kinematics to automatically determine $\\theta_1,\\ldots,\\theta_n$ such that\n",
    "\n",
    "$$\n",
    "p(\\theta_1,\\ldots,\\theta_n) = p_{\\mathrm{target}}\n",
    "$$\n",
    "\n",
    "for a given value $p_{\\mathrm{target}}\\in\\mathbb{R}^2$. In other words: the user can move around the endpoint of the chain, and the skeleton will automatically reconfigure itself to follow. This is illustrated in the following figure:\n",
    "\n",
    "![](images/inverse-kinematics-04.png)\n",
    "\n",
    "A good numerical root finding technique requires the ability to evaluate the Jacobian of $p$, i.e. all the partial derivatives $\\frac{\\partial p(\\theta_1,\\ldots,\\theta_n)}{\\partial \\theta_j}$. The partial derivatives encode how a small perturbation of each of the angles $\\theta_j$ leads to a corresponding change in $p(\\theta_1,\\ldots,\\theta_n)$. For simplicity, we'll first look at a 1-segment chain and then derive a solution for the general problem.\n",
    "\n",
    "\n",
    "\n",
    "We implement a function `dchain_simple(theta)` which takes an array with one entry, and computes the function $\\frac{\\partial p(\\theta_1)}{\\partial \\theta_1}$. The return value is a two-dimensional array with one column and two rows containing the partial derivatives of the coordinate values $x_1$ and $y_1$. We use analytic methods for the approximation of derivatives.\n"
   ]
  },
  {
   "cell_type": "code",
   "execution_count": 7,
   "metadata": {
    "execution": {
     "iopub.execute_input": "2021-01-07T22:55:11.457950Z",
     "iopub.status.busy": "2021-01-07T22:55:11.457229Z",
     "iopub.status.idle": "2021-01-07T22:55:11.460217Z",
     "shell.execute_reply": "2021-01-07T22:55:11.460756Z"
    }
   },
   "outputs": [
    {
     "name": "stdout",
     "output_type": "stream",
     "text": [
      "dchain_simple: \n",
      " [[-0.]\n",
      " [ 1.]]\n",
      "reference:     \n",
      " [[0.]\n",
      " [1.]]\n",
      "\n",
      "dchain_simple: \n",
      " [[-0.70710678]\n",
      " [ 0.70710678]]\n",
      "reference:     \n",
      " [[-0.70710678]\n",
      " [ 0.70710678]]\n"
     ]
    }
   ],
   "source": [
    "def dchain_simple(theta):\n",
    "    par_x = -np.sin(theta[0]) # partial der of x\n",
    "    par_y = np.cos(theta[0]) # partial der of y\n",
    "    return np.array([[par_x], [par_y]])\n",
    "\n",
    "\n",
    "# TESTS\n",
    "print('dchain_simple: \\n', dchain_simple([0]))\n",
    "print('reference:     \\n', np.array([[0.], [1.]]))\n",
    "print()\n",
    "print('dchain_simple: \\n', dchain_simple([np.pi / 4]))\n",
    "print('reference:     \\n', np.array([[-0.70710678], [ 0.70710678]]))\n"
   ]
  },
  {
   "cell_type": "markdown",
   "metadata": {},
   "source": [
    "## 2.1 Implementing the full Jacobian function\n",
    "\n",
    "Building off the version for a single bone, we'll now implement the full Jacobian $\\nabla p(\\theta_1, \\ldots, \\theta_n)$, which is a $2\\times n$ matrix containing the partial derivatives with respect to all angles. We use a vector version of the product in our implementation. Specifically, note that\n",
    "\n",
    "$$\n",
    "\\frac{\\partial}{\\partial t} \\left[A(t)x(t)\\right] = A'(t)x(t) + A(t)x'(t)\n",
    "$$\n",
    "\n",
    "where $A(t)$ and $x(t)$ are a matrix and a vector depending on a parameter $t$, respectively.\n",
    "\n",
    "\n",
    "\n",
    "We implement a function `dchain(theta)` which accepts an 1D array of angles with length $\\ge 1$ and computes the Jacobian $\\nabla p(\\theta_1, \\ldots, \\theta_n)$, a $2\\times n$ matrix.\n"
   ]
  },
  {
   "cell_type": "code",
   "execution_count": 8,
   "metadata": {
    "execution": {
     "iopub.execute_input": "2021-01-07T22:55:11.466858Z",
     "iopub.status.busy": "2021-01-07T22:55:11.466160Z",
     "iopub.status.idle": "2021-01-07T22:55:11.468420Z",
     "shell.execute_reply": "2021-01-07T22:55:11.469030Z"
    }
   },
   "outputs": [
    {
     "name": "stdout",
     "output_type": "stream",
     "text": [
      "dchain: \n",
      " [[0. 0. 0. 0.]\n",
      " [4. 3. 2. 1.]]\n",
      "reference: \n",
      " [[0. 0. 0. 0.]\n",
      " [4. 3. 2. 1.]]\n",
      "\n",
      "dchain: \n",
      " [[-0.9599961  -0.86016268 -0.56464247]\n",
      " [ 2.77567627  1.7806721   0.82533561]]\n",
      "reference: \n",
      " [[-0.9599961  -0.86016268 -0.56464247]\n",
      " [ 2.77567627  1.7806721   0.82533561]]\n"
     ]
    }
   ],
   "source": [
    "def dchain(theta):\n",
    "    length = len(theta)\n",
    "    res = np.empty((2,length)) # result array\n",
    "    angle_sum = 0\n",
    "    \n",
    "    for angle in theta:\n",
    "        angle_sum += angle # now has total angle\n",
    "    x_right = 0\n",
    "    y_right = 0\n",
    "    \n",
    "    # fills in result array right to left\n",
    "    for i in range(length): \n",
    "        res[0][length-i-1] = -np.sin(angle_sum) + x_right # dx/d_theta_i (partial)\n",
    "        res[1][length-i-1] = np.cos(angle_sum) + y_right # dy/d_theta_i (partial)\n",
    "        angle_sum -= theta[length-i-1] # removes last angle from sum\n",
    "        x_right = res[0][length-i-1] # caches x element on right (top row)\n",
    "        y_right = res[1][length-i-1] # caches y element on right (bottom row)\n",
    "    return res\n",
    "\n",
    "\n",
    "# TESTS\n",
    "print('dchain: \\n', dchain([0, 0, 0, 0]))\n",
    "print('reference: \\n', np.array([[ 0.,  0.,  0.,  0.], [ 4.,  3.,  2.,  1.]]))\n",
    "print()\n",
    "print('dchain: \\n', dchain([0.1, 0.2, 0.3]))\n",
    "print('reference: \\n', np.array([[-0.9599961 , -0.86016268, -0.56464247], [ 2.77567627,  1.7806721 ,  0.82533561]]))"
   ]
  },
  {
   "cell_type": "markdown",
   "metadata": {},
   "source": [
    "## 2.2 Solving the inverse kinematics problem using Newton's Method\n",
    "\n",
    "Reason for Newton's method: Newton's method is one of the most widely used methods for finding solutions to systems of non-linear equations. It converges at a remarkable speed when started sufficiently close to a root, though there is generally no strict guarantee of convergence.\n",
    "\n",
    "Given a function $f(x)$, Newton's method tries to find a solution to the equation $f = 0$ using steps of the form\n",
    "\n",
    "$$\n",
    "x_{i+1}=x_i - \\left(\\nabla f\\right)^{-1}f(x_{i}).\n",
    "$$\n",
    "\n",
    "In the context of inverse kinematics, we want to apply Newton's method to solve an equation of the form\n",
    "\n",
    "$$\n",
    "p(\\theta_1,\\ldots,\\theta_n) = p_{\\mathrm{target}}.\n",
    "$$\n",
    "\n",
    "for a given reference position $p_{\\mathrm{target}}\\in\\mathbb{R}^2$.\n",
    "\n",
    "In other words: the unknowns are the angles $\\theta_1,\\ldots,\\theta_n$, and the function whose root we seek maps to a two-dimensional domain. It is not immediately obvious how to apply Newton's method, since the Jacobian of the function has the shape $2\\times n$ and hence cannot be inverted using standard techniques like the LU decomposition.\n",
    "\n",
    "In fact, this is a consequence of the fact that many different configurations can be used to reach the same $p_{\\mathrm{target}}$, something evident in part 1.4.\n",
    "\n",
    "Thus, we must take another approach: *pseudoinverse*. The pseudoinverse is a generalization of the inverse to non-square matrices. In this specific case, the Jacobian is *wide* (i.e. it has more columns than rows), in which case the pseudoinverse will find the solution to a linear system which has the smallest $\\|\\cdot\\|_2$-norm. That is ideal news, since it causes the IK solver to make small adjustments to the angles to reach a new position.\n",
    "\n",
    "\n",
    "We implement a function `newton(theta, target)` that takes a 1-dimensional array of angles as a starting guess as well as a 2D target position (also specified as a 1-dimensional array) as input. The implementation performs a fixed 8 iterations of Newton's method to try to solve the equation $p(\\theta_1,\\ldots,\\theta_n) = p_{\\mathrm{target}}$ and return the final set of parameters $\\theta_1,\\ldots,\\theta_n$ as an 1-dimensional NumPy array. We use the function `la.pinv` to compute the pseudoinverse.\n"
   ]
  },
  {
   "cell_type": "code",
   "execution_count": 9,
   "metadata": {
    "execution": {
     "iopub.execute_input": "2021-01-07T22:55:11.474747Z",
     "iopub.status.busy": "2021-01-07T22:55:11.474053Z",
     "iopub.status.idle": "2021-01-07T22:55:11.476397Z",
     "shell.execute_reply": "2021-01-07T22:55:11.476881Z"
    }
   },
   "outputs": [
    {
     "name": "stdout",
     "output_type": "stream",
     "text": [
      "chain(newton):  [6.123234e-17 1.000000e+00]\n",
      "reference:      [0 1]\n",
      "\n",
      "chain(newton):  [0.4616232  0.46922546]\n",
      "reference:      [0.5 0.5]\n"
     ]
    }
   ],
   "source": [
    "def newton(theta, target):\n",
    "    for i in range(8): \n",
    "        theta_copy = np.copy(theta) # create a copy to avoid modification when passed into chain and dchain, why?\n",
    "        error = target - chain(theta_copy) # calculate error\n",
    "        theta = theta + (np.linalg.pinv(dchain(theta_copy))@error) # calculate next theta\n",
    "    return theta\n",
    "\n",
    "\n",
    "# TESTS\n",
    "# Moving a 1-element chain from the default configuration to position (0, 1)\n",
    "print('chain(newton): ', chain(newton(np.array([0.]), np.array([0., 1.]))))\n",
    "print('reference:     ', np.array([0, 1]))\n",
    "print()\n",
    "# Moving a 2-element chain from the default configuration to position (0.5, 0.5)\n",
    "print('chain(newton): ', chain(newton(np.array([0., 0.]), np.array([0.5, 0.5]))))\n",
    "print('reference:     ', np.array([0.5, 0.5]))"
   ]
  },
  {
   "cell_type": "markdown",
   "metadata": {},
   "source": [
    "## 2.3 One more helper function\n",
    "\n",
    "The TA's have provided the function `ik_demo()` below to interactively explore the possible chain configurations via inverse kinematics. Similar to `fk_demo()`, the function is fairly technical and beyond the scope of this class."
   ]
  },
  {
   "cell_type": "code",
   "execution_count": 10,
   "metadata": {
    "execution": {
     "iopub.execute_input": "2021-01-07T22:55:11.486404Z",
     "iopub.status.busy": "2021-01-07T22:55:11.485716Z",
     "iopub.status.idle": "2021-01-07T22:55:11.487629Z",
     "shell.execute_reply": "2021-01-07T22:55:11.488202Z"
    }
   },
   "outputs": [],
   "source": [
    "def ik_demo(solver, size):    \n",
    "    theta = np.zeros(size, dtype=np.float64)\n",
    "    \n",
    "    # Function which repeatedly calls ``chain`` to compute all joint positions\n",
    "    def chain_all(theta):\n",
    "        return np.column_stack([chain(theta[:i]) for i in range(0, len(theta) + 1)])\n",
    "\n",
    "    # Callback that is invoked when the user drags the red endpoint around\n",
    "    def refresh(_):\n",
    "        # 'theta' is a variable of the parent function, we want to modify it here\n",
    "        nonlocal theta\n",
    "        \n",
    "        # Target position\n",
    "        target = np.array([scat2.x[0], scat2.y[0]])\n",
    "        \n",
    "        # Don't try to solve the problem if the user dragged the point out of the circle\n",
    "        if la.norm(target) > size:\n",
    "            return\n",
    "        \n",
    "        # Call the provided IK solver\n",
    "        theta = solver(theta, target)\n",
    "        \n",
    "        # Update the positions\n",
    "        values = chain_all(theta)\n",
    "        scat.x, scat.y = values\n",
    "        lines.x, lines.y = values\n",
    "    \n",
    "    # Similar to fk_solver(), create a number of plots and merge them\n",
    "    scales = { 'x': bqp.LinearScale(min=-size-1, max=size+1),\n",
    "               'y': bqp.LinearScale(min=-size-1, max=size+1) }\n",
    "\n",
    "    scat  = bqp.Scatter(scales=scales)\n",
    "    lines = bqp.Lines(scales=scales)\n",
    "\n",
    "    # Create a circle which marks the boundary of where the red point can be moved\n",
    "    circle_x = np.cos(np.linspace(0, 2*np.pi, 100)) * size\n",
    "    circle_y = np.sin(np.linspace(0, 2*np.pi, 100)) * size\n",
    "    circle = bqp.Lines(x=circle_x, y=circle_y,\n",
    "                       scales=scales, colors=['gray'])\n",
    "    \n",
    "    # Special plot, which contains the red endpoint that can be moved\n",
    "    scat2 = bqp.Scatter(scales=scales,\n",
    "                        enable_move=True, \n",
    "                        update_on_move=True,\n",
    "                        default_colors=['red'])\n",
    "\n",
    "    # Initialize the visualizations with the default configuration\n",
    "    values = chain_all(theta)\n",
    "    scat.x, scat.y = values\n",
    "    lines.x, lines.y = values\n",
    "    scat2.x, scat2.y = chain(theta).reshape(2, 1)\n",
    "    \n",
    "    # Call the 'refresh' function when the red dot is moved\n",
    "    scat2.observe(refresh, names=['x', 'y'])\n",
    "\n",
    "    figure = bqp.Figure(marks=[scat, scat2, lines, circle])\n",
    "    figure.layout.height = '500px'\n",
    "    figure.layout.width = '500px'\n",
    "    return figure"
   ]
  },
  {
   "cell_type": "markdown",
   "metadata": {},
   "source": [
    "## 2.4 Visualizing its Behavior\n",
    "\n",
    "Now to view the behavior of the completed inverse kinematics solver. \n",
    "    \n",
    "The first cell below invokes the IK demonstration with 4 segments, i.e. `ik_demo(newton, 4)`. You can move the red endpoint with your mouse cursor, leading to a smooth adjustment of the chain configuration.\n",
    "\n",
    "The second cell invokes the IK demonstration with 30 segments, i.e. `ik_demo(newton, 30)`. While the algorithm appears to work, it is noticably slower."
   ]
  },
  {
   "cell_type": "code",
   "execution_count": 11,
   "metadata": {
    "execution": {
     "iopub.execute_input": "2021-01-07T22:55:11.491813Z",
     "iopub.status.busy": "2021-01-07T22:55:11.491134Z",
     "iopub.status.idle": "2021-01-07T22:55:11.492886Z",
     "shell.execute_reply": "2021-01-07T22:55:11.493414Z"
    },
    "scrolled": false
   },
   "outputs": [
    {
     "data": {
      "application/vnd.jupyter.widget-view+json": {
       "model_id": "623928b924644642845c926a1b3e46b5",
       "version_major": 2,
       "version_minor": 0
      },
      "text/plain": [
       "Figure(fig_margin={'top': 60, 'bottom': 60, 'left': 60, 'right': 60}, layout=Layout(height='500px', width='500…"
      ]
     },
     "metadata": {},
     "output_type": "display_data"
    }
   ],
   "source": [
    "ik_demo(newton, 4)"
   ]
  },
  {
   "cell_type": "code",
   "execution_count": 12,
   "metadata": {
    "execution": {
     "iopub.execute_input": "2021-01-07T22:55:11.497595Z",
     "iopub.status.busy": "2021-01-07T22:55:11.496759Z",
     "iopub.status.idle": "2021-01-07T22:55:11.498471Z",
     "shell.execute_reply": "2021-01-07T22:55:11.498984Z"
    },
    "scrolled": false
   },
   "outputs": [
    {
     "data": {
      "application/vnd.jupyter.widget-view+json": {
       "model_id": "12fedc9f55c447feb2560060ec22d986",
       "version_major": 2,
       "version_minor": 0
      },
      "text/plain": [
       "Figure(fig_margin={'top': 60, 'bottom': 60, 'left': 60, 'right': 60}, layout=Layout(height='500px', width='500…"
      ]
     },
     "metadata": {},
     "output_type": "display_data"
    }
   ],
   "source": [
    "ik_demo(newton, 30)"
   ]
  }
 ],
 "metadata": {
  "anaconda-cloud": {},
  "kernelspec": {
   "display_name": "Python 3",
   "language": "python",
   "name": "python3"
  },
  "language_info": {
   "codemirror_mode": {
    "name": "ipython",
    "version": 3
   },
   "file_extension": ".py",
   "mimetype": "text/x-python",
   "name": "python",
   "nbconvert_exporter": "python",
   "pygments_lexer": "ipython3",
   "version": "3.8.5"
  },
  "widgets": {
   "state": {
    "08313ae1795f46f39945c86d9c3fa32d": {
     "views": [
      {
       "cell_index": 11
      }
     ]
    },
    "08cae9d7c33841aca1a751ac575a5d86": {
     "views": [
      {
       "cell_index": 40
      }
     ]
    },
    "1696bc818fd64725b4363c786741d435": {
     "views": [
      {
       "cell_index": 35
      }
     ]
    },
    "7c5c30707248431a85fbe23b8da04633": {
     "views": [
      {
       "cell_index": 17
      }
     ]
    },
    "86448a7aa56f42c6a7a01667abb00d7e": {
     "views": [
      {
       "cell_index": 38
      }
     ]
    },
    "d299fc2432f84314ba00b7a509d2d5fc": {
     "views": [
      {
       "cell_index": 36
      }
     ]
    }
   },
   "version": "1.2.0"
  }
 },
 "nbformat": 4,
 "nbformat_minor": 1
}
