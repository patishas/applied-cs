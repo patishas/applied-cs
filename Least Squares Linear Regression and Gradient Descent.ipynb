{
 "cells": [
  {
   "cell_type": "code",
   "execution_count": 1,
   "metadata": {},
   "outputs": [],
   "source": [
    "import autograd.numpy as np\n",
    "from autograd import grad \n",
    "import matplotlib.pyplot as plt\n",
    "%matplotlib inline\n"
   ]
  },
  {
   "cell_type": "markdown",
   "metadata": {},
   "source": [
    "Q1) [10 points] Implement the linear regression model discussed in class below. The function (called model) takes in an array of data points, x , and an array of weights, w, and returns a vector y_predicted containing the linear combination for each of the data points. This is the linear model we have discussed in class. You can assume each data point in x only has one feature.  The length of the vector being returned should be the same as x.\n"
   ]
  },
  {
   "cell_type": "code",
   "execution_count": 2,
   "metadata": {},
   "outputs": [],
   "source": [
    "def model(x,w):\n",
    "    y_predicted = x*w[1]+w[0] # y=w_0+w_1x\n",
    "    return y_predicted"
   ]
  },
  {
   "cell_type": "markdown",
   "metadata": {},
   "source": [
    "Q2) [10 ponts] Implement the least squares function discussed in class below. The function should take in an array of weights, w, an array of x's and an array of ys. It should use the model function implemented above and return a float indicating the total cost."
   ]
  },
  {
   "cell_type": "code",
   "execution_count": 3,
   "metadata": {},
   "outputs": [],
   "source": [
    "def least_squares(w,x,y):    \n",
    "    sum = np.sum((model(x,w)-y)**2)\n",
    "    cost = sum/x.size\n",
    "    \n",
    "    return cost"
   ]
  },
  {
   "cell_type": "markdown",
   "metadata": {},
   "source": [
    "Q3) [5 point] This one is a freebie from HW1. Copy and paste your gradient descent function here. Specifically, the one that takes in the cost function as input and return the weight and cost history. We will be using a fixed alpha for this HW. The only difference is that this function should now also take in as input an array of x and ys, corresponding to our data. The w,x, and y are given as inputs to the cost funtion and its gradient."
   ]
  },
  {
   "cell_type": "code",
   "execution_count": 4,
   "metadata": {},
   "outputs": [],
   "source": [
    "def gradient_descent(g,alpha,max_its,w,x,y):\n",
    "    gradient = grad(g)   ## This is how you use the autograd library to find the gradient of a function  \n",
    "    \n",
    "    weight_history = []\n",
    "    cost_history = []\n",
    "    weight_history.append(w)\n",
    "    cost_history.append(g(w,x,y))\n",
    "    \n",
    "    for k in range(max_its):\n",
    "        w = w - alpha*gradient(w,x,y)\n",
    "        weight_history.append(w)\n",
    "        cost_history.append(g(w,x,y)) # least squares cost function\n",
    "    \n",
    "    return weight_history,cost_history"
   ]
  },
  {
   "cell_type": "markdown",
   "metadata": {},
   "source": [
    "Q4) [1 points]  Run the code below to import a dataset. Then, plot a scatter plot of the data (x vs y)."
   ]
  },
  {
   "cell_type": "code",
   "execution_count": 5,
   "metadata": {},
   "outputs": [],
   "source": [
    "# import the dataset\n",
    "csvname = 'kleibers_law_data.csv'\n",
    "data = np.loadtxt(csvname,delimiter=',')\n",
    "x = np.log(data[:-1,:])\n",
    "y = np.log(data[-1:,:])\n"
   ]
  },
  {
   "cell_type": "code",
   "execution_count": 6,
   "metadata": {},
   "outputs": [
    {
     "data": {
      "text/plain": [
       "Text(0, 0.5, 'y')"
      ]
     },
     "execution_count": 6,
     "metadata": {},
     "output_type": "execute_result"
    },
    {
     "data": {
      "image/png": "[encoded data removed]",
      "text/plain": [
       "<Figure size 432x288 with 1 Axes>"
      ]
     },
     "metadata": {
      "needs_background": "light"
     },
     "output_type": "display_data"
    }
   ],
   "source": [
    "plt.scatter(x, y, s=4)\n",
    "plt.xlabel('x')\n",
    "plt.ylabel('y')"
   ]
  },
  {
   "cell_type": "markdown",
   "metadata": {},
   "source": [
    "Q5) [5 points] Use your gradient descent function to learn a linear regression model for the x and y above using the following parameters and plot the cost_history over the 1000 iterations\n",
    "\n",
    "g = least_squares function you implemented\n",
    "\n",
    "w = [w_0, w_1]  , where w_0 and w_1 are random numbers between -0.1 and 0.1\n",
    "\n",
    "max_its=1000\n",
    "\n",
    "alpha=0.01"
   ]
  },
  {
   "cell_type": "code",
   "execution_count": 7,
   "metadata": {},
   "outputs": [],
   "source": [
    "g = least_squares\n",
    "w = (np.random.rand(2)-0.5)/5 #generates 1D array (size=2) of random numbers between -0.1 and 0.1\n",
    "w = np.array(w)\n",
    "max_its=1000\n",
    "alpha=0.01\n",
    "\n",
    "weight_history,cost_history = gradient_descent(g,alpha,max_its,w,x,y)"
   ]
  },
  {
   "cell_type": "markdown",
   "metadata": {},
   "source": [
    "Q6) [5 points] Use the learned weights from above (note that the \"learned\" weights are the ones with the lowest cost) to plot the learned line. You can use the linspace method (shown below) to generate a list of xs that you can use for plotting. You need to generate a y for each of the candidate xs using the learned weights. On the same figure, also plot the scatter plot from Q4. \n"
   ]
  },
  {
   "cell_type": "code",
   "execution_count": 8,
   "metadata": {},
   "outputs": [
    {
     "data": {
      "text/plain": [
       "Text(0, 0.5, 'y')"
      ]
     },
     "execution_count": 8,
     "metadata": {},
     "output_type": "execute_result"
    },
    {
     "data": {
      "image/png": "[encoded data removed]",
      "text/plain": [
       "<Figure size 432x288 with 1 Axes>"
      ]
     },
     "metadata": {
      "needs_background": "light"
     },
     "output_type": "display_data"
    }
   ],
   "source": [
    "cost_min = np.min(cost_history)\n",
    "w_learned = weight_history[cost_history.index(cost_min)]\n",
    "\n",
    "sx = np.linspace(np.min(x),np.max(x))\n",
    "sy = model(sx, w_learned)\n",
    "\n",
    "plt.scatter(x, y, s=4)\n",
    "plt.plot(sx,sy)\n",
    "\n",
    "plt.title(\"Learned Weights\")\n",
    "plt.xlabel('x')\n",
    "plt.ylabel('y')"
   ]
  },
  {
   "cell_type": "markdown",
   "metadata": {},
   "source": [
    "Q7) [1 points]  Run the code below to import a dataset. Then, plot a scatter plot of the data (x vs y). "
   ]
  },
  {
   "cell_type": "code",
   "execution_count": 9,
   "metadata": {},
   "outputs": [
    {
     "data": {
      "text/plain": [
       "<matplotlib.collections.PathCollection at 0x2a310539f10>"
      ]
     },
     "execution_count": 9,
     "metadata": {},
     "output_type": "execute_result"
    },
    {
     "data": {
      "image/png": "[encoded data removed]",
      "text/plain": [
       "<Figure size 432x288 with 1 Axes>"
      ]
     },
     "metadata": {
      "needs_background": "light"
     },
     "output_type": "display_data"
    }
   ],
   "source": [
    "# load in dataset\n",
    "data = np.loadtxt('regression_outliers.csv',delimiter = ',')\n",
    "x = data[:-1,:]\n",
    "y = data[-1:,:] \n",
    "\n",
    "plt.scatter(x, y, s=4)"
   ]
  },
  {
   "cell_type": "markdown",
   "metadata": {},
   "source": [
    "Q8) [10 ponts] Implement the least absolute deviations function discussed in class. The function should take in an array of weights, w, an array of x's and an array of ys. It should use the model function implemented in Q1  and return a float indicating the total cost."
   ]
  },
  {
   "cell_type": "code",
   "execution_count": 10,
   "metadata": {},
   "outputs": [],
   "source": [
    "def least_absolute_deviations(w,x,y):\n",
    "    sum = np.sum(np.abs(model(x,w)-y))\n",
    "    cost = sum/x.size\n",
    "    return cost"
   ]
  },
  {
   "cell_type": "markdown",
   "metadata": {},
   "source": [
    "Q9) [5 points] Use the gradient descent function twice to learn two linear models using the new x and y from Q7 using the following parameters and plot the cost_history for both runs on the same plot. Make the plot for the first run blue and the plot for the second run red.\n",
    "\n",
    "Run 1) \n",
    "g = least_squares function\n",
    "\n",
    "w = [1.0,1.0]\n",
    "\n",
    "max_its=100\n",
    "\n",
    "alpha=0.1\n",
    "\n",
    "Run 2) \n",
    "g = least_absoulte_deviations\n",
    "\n",
    "w = [1.0,1.0]\n",
    "\n",
    "max_its=100\n",
    "\n",
    "alpha=0.1\n"
   ]
  },
  {
   "cell_type": "code",
   "execution_count": 11,
   "metadata": {},
   "outputs": [
    {
     "data": {
      "text/plain": [
       "<matplotlib.legend.Legend at 0x2a31058c7f0>"
      ]
     },
     "execution_count": 11,
     "metadata": {},
     "output_type": "execute_result"
    },
    {
     "data": {
      "image/png": "[encoded data removed]",
      "text/plain": [
       "<Figure size 432x288 with 1 Axes>"
      ]
     },
     "metadata": {
      "needs_background": "light"
     },
     "output_type": "display_data"
    }
   ],
   "source": [
    "w = np.array([1.0,1.0])\n",
    "max_its=100\n",
    "alpha=0.1\n",
    "\n",
    "\n",
    "g = least_squares\n",
    "weight_history_lsq, cost_history_lsq = gradient_descent(g,alpha,max_its,w,x,y)\n",
    "\n",
    "g = least_absolute_deviations\n",
    "weight_history_lad, cost_history_lad = gradient_descent(g,alpha,max_its,w,x,y)\n",
    "\n",
    "x_runs = list(range(max_its+1))\n",
    "plt.plot(x_runs, cost_history_lsq, label='least squares', color = 'blue')\n",
    "plt.plot(x_runs, cost_history_lad, label='least absolute deviation', color = 'red')\n",
    "\n",
    "plt.xlabel('step number')\n",
    "plt.ylabel('cost')\n",
    "plt.title(\"Cost History\")\n",
    "plt.legend()"
   ]
  },
  {
   "cell_type": "markdown",
   "metadata": {},
   "source": [
    "Q10) [5 points] Use the learned weights from above to plot the two learned lines (use same colors as above). You can use the linspace method again to generate a list of xs that you can use. On the same figure, also plot the scatter plot from Q7. Which of these lines look like a better fit to you? \n"
   ]
  },
  {
   "cell_type": "code",
   "execution_count": 12,
   "metadata": {},
   "outputs": [
    {
     "data": {
      "text/plain": [
       "Text(0, 0.5, 'y')"
      ]
     },
     "execution_count": 12,
     "metadata": {},
     "output_type": "execute_result"
    },
    {
     "data": {
      "image/png": "[encoded data removed]",
      "text/plain": [
       "<Figure size 432x288 with 1 Axes>"
      ]
     },
     "metadata": {
      "needs_background": "light"
     },
     "output_type": "display_data"
    }
   ],
   "source": [
    "sx = np.linspace(np.min(x),np.max(x))\n",
    "\n",
    "cost_min_lsq = np.min(cost_history_lsq)\n",
    "w_learned_lsq = weight_history_lsq[cost_history_lsq.index(cost_min_lsq)]\n",
    "\n",
    "cost_min_lad = np.min(cost_history_lad)\n",
    "w_learned_lad = weight_history_lad[cost_history_lad.index(cost_min_lad)]\n",
    "\n",
    "sy_lsq = model(sx, w_learned_lsq)\n",
    "sy_lad = model(sx, w_learned_lad)\n",
    "\n",
    "plt.scatter(x, y, s=4)\n",
    "plt.plot(sx,sy_lsq, label='least squares', color = 'blue')\n",
    "plt.plot(sx,sy_lad, label='least absolute deviation', color = 'red')\n",
    "\n",
    "plt.title(\"Learned Weights\")\n",
    "plt.xlabel('x')\n",
    "plt.ylabel('y')"
   ]
  },
  {
   "cell_type": "markdown",
   "metadata": {},
   "source": [
    "The \"least absolute deviation\" line fits the data better. This is expected because using least absolute deviation over least squares minimizes the effect of the outlier."
   ]
  },
  {
   "cell_type": "markdown",
   "metadata": {},
   "source": [
    "Q11) [6 points] Implement the mean squared error (MSE) and the mean absolute deviation functions from class. The functions should take in as input an array of actual ys and an array of predicted ys and return the prediction error."
   ]
  },
  {
   "cell_type": "code",
   "execution_count": 13,
   "metadata": {},
   "outputs": [],
   "source": [
    "def MSE(y_actual,y_pred):\n",
    "    sum = np.sum((y_pred-y_actual)**2)\n",
    "    error = sum/y_actual.size\n",
    "    return error\n",
    "\n",
    "def MAD(y_actual,y_pred):\n",
    "    sum = np.sum(np.abs(y_pred-y_actual))\n",
    "    error = sum/y_actual.size\n",
    "    return error"
   ]
  },
  {
   "cell_type": "markdown",
   "metadata": {},
   "source": [
    "Q12) [4 points] Use the functions above to report the MSE and MAD for the two models learned in Q9, using the x and y from Q7. You should have 4 values total, two for each model. Which model is doing better? (Note that since you are evaluating the model on the training data, this corresponds to the training error)"
   ]
  },
  {
   "cell_type": "code",
   "execution_count": 14,
   "metadata": {},
   "outputs": [
    {
     "name": "stdout",
     "output_type": "stream",
     "text": [
      "MSE of model trained w/ Least Squares: 6.841394300667753\n",
      "MAD of model trained w/ Least Squares: 1.68937055338514\n",
      "MSE of model trained w/ Least Absolute Deviation: 9.799137735443463\n",
      "MAD of model trained w/ Least Absolute Deviation: 1.0906599905772107\n"
     ]
    }
   ],
   "source": [
    "#Your code here\n",
    "\n",
    "sy_lsq = model(x, w_learned_lsq)\n",
    "sy_lad = model(x, w_learned_lad)\n",
    "\n",
    "#compare each with graph above, checks out\n",
    "\n",
    "print(\"MSE of model trained w/ Least Squares: \"+str(MSE(y, sy_lsq)))\n",
    "# MSE doesn't account for the outlier, and the model doesn't account for it either\n",
    "\n",
    "print(\"MAD of model trained w/ Least Squares: \"+str(MAD(y, sy_lsq)))\n",
    "# MAD accounts for the outlier, even though the model doesn't account for it either\n",
    "\n",
    "print(\"MSE of model trained w/ Least Absolute Deviation: \"+str(MSE(y, sy_lad)))\n",
    "# MSE doesn't account for the outlier, even though the model does\n",
    "\n",
    "print(\"MAD of model trained w/ Least Absolute Deviation: \"+str(MAD(y, sy_lad)))\n",
    "# MAD accounts for the outlier, and so does the model\n",
    "\n"
   ]
  },
  {
   "cell_type": "markdown",
   "metadata": {},
   "source": [
    "The model trained with Least Absolute Deviation seems to be doing better (has the lowest error)."
   ]
  },
  {
   "cell_type": "markdown",
   "metadata": {},
   "source": [
    "Q13) [6 points] Implement the L1 and L2 regularizers from class. Recall the regularizers take in input the weight vector and return a score based on the L1 or L2 norm of the weights"
   ]
  },
  {
   "cell_type": "code",
   "execution_count": 15,
   "metadata": {},
   "outputs": [],
   "source": [
    "def L2_regularizer(w):\n",
    "    L2 = np.sum(w**2)\n",
    "    return L2\n",
    "\n",
    "def L1_regularizer(w):\n",
    "    L1 = np.sum(np.abs(w))\n",
    "    return L1"
   ]
  },
  {
   "cell_type": "markdown",
   "metadata": {},
   "source": [
    "Q14) [12 points] Turn the least squares function implemented in Q2 into the Ridge (L2) and Lasso (L1) least squares (covered in class) using the functions implemented in Q13. Recall that $\\lambda$ is used as a hyperparameter to specify the smoothness of the function learned (higher $\\lambda$ leads to simpler and smoother functions whereas lower $\\lambda$ leads to better fitting to the data. $\\lambda=0$ is the same as non-regularized least-squares)"
   ]
  },
  {
   "cell_type": "code",
   "execution_count": 16,
   "metadata": {},
   "outputs": [],
   "source": [
    "def ridge(w,x,y,lmbda):    \n",
    "    sum = np.sum((model(x,w)-y)**2)\n",
    "    cost = (sum/x.size) + L2_regularizer(w)\n",
    "    \n",
    "    return cost\n",
    "\n",
    "def lasso(w,x,y,lmbda):    \n",
    "    sum = np.sum((model(x,w)-y)**2)\n",
    "    cost = (sum/x.size) + L1_regularizer(w)\n",
    "    \n",
    "    return cost"
   ]
  },
  {
   "cell_type": "markdown",
   "metadata": {},
   "source": [
    "# Bonus work"
   ]
  },
  {
   "cell_type": "markdown",
   "metadata": {},
   "source": [
    "Q15) [2 points] The file 'weatherHistory.csv'has 96,454 lines, each one corresponding to a data point. Each row (i.e., data point), has several columns. Read the data file. Note that the first line is the header describing each column."
   ]
  },
  {
   "cell_type": "code",
   "execution_count": 17,
   "metadata": {},
   "outputs": [],
   "source": [
    "#Your code here\n",
    "#TODO: complete this"
   ]
  },
  {
   "cell_type": "markdown",
   "metadata": {},
   "source": [
    "Q16) [5 points] Use the data above to set y to be the temperatures and X to be the following columns (in order): [Apparent_Temperature, Humidity, Wind_Speed, Wind_Bearing, Visibility, Pressure] Basically, we want to see whether we can predict the temperature, using the features in X."
   ]
  },
  {
   "cell_type": "code",
   "execution_count": 18,
   "metadata": {},
   "outputs": [],
   "source": [
    "#Your code here"
   ]
  },
  {
   "cell_type": "markdown",
   "metadata": {},
   "source": [
    "We are now going to using a well-known ML library called sklearn. If you do not have it installed, please do so using this instruction: https://scikit-learn.org/stable/install.html\n",
    "\n",
    "sklearn comes with many models already implemented, below we import the standard linear regression, Ridge, and Lasso models from sklearn. We also import a method that can divide our data into train/test sets. Please run the cell below."
   ]
  },
  {
   "cell_type": "code",
   "execution_count": 19,
   "metadata": {},
   "outputs": [],
   "source": [
    "from sklearn.linear_model import LinearRegression, Ridge, Lasso \n",
    "from sklearn.model_selection import train_test_split "
   ]
  },
  {
   "cell_type": "markdown",
   "metadata": {},
   "source": [
    "This library is very easy to use. We briefly went over it in the class but please use the API and user guide  ( https://scikit-learn.org) to learn exactly how to use this library.\n",
    "\n",
    "For instance, learning a linear regression model using sklearn can be done in two lines:\n",
    "\n",
    "linearModel = LinearRegression() \n",
    "\n",
    "linearModel.fit(x_train, y_train)"
   ]
  },
  {
   "cell_type": "markdown",
   "metadata": {},
   "source": [
    "Q17) [2 points] Use the train_test_split to divide your modified data from Q16 into 80% train, 20% test. "
   ]
  },
  {
   "cell_type": "code",
   "execution_count": 20,
   "metadata": {},
   "outputs": [],
   "source": [
    "#Your code here"
   ]
  },
  {
   "cell_type": "markdown",
   "metadata": {},
   "source": [
    "Q18) [10 points] Use sklearn to train a LinearRegression model using the data above. Report the performance of the model on the test data (use sklearn's MSE implementation: https://scikit-learn.org/stable/modules/generated/sklearn.metrics.mean_squared_error.html). Note that the .predict method can be used to get the y_predictions for the test xs."
   ]
  },
  {
   "cell_type": "code",
   "execution_count": 21,
   "metadata": {},
   "outputs": [],
   "source": [
    "from sklearn.metrics import mean_squared_error\n",
    "#Your code here"
   ]
  },
  {
   "cell_type": "markdown",
   "metadata": {},
   "source": [
    "Q19) [10 points] Repeat Q18 but instead of LinearRegression, use the Ridge and Lasso functions. You can keep the default alpha (note that what we called lambda in the class, the hyperparameter for regularization, is called alpha in sklearn. It is the same thing)."
   ]
  },
  {
   "cell_type": "code",
   "execution_count": 22,
   "metadata": {},
   "outputs": [],
   "source": [
    "#Your code here"
   ]
  },
  {
   "cell_type": "markdown",
   "metadata": {},
   "source": [
    "Q20) [4 points] Print the learned parameters for the Ridge and Lasso models (using .coef_).  Note that the parameters below correspond to the feature vector ( [Apparent_Temperature, Humidity, Wind_Speed, Wind_Bearing, Visibility, Pressure]), in order. I.e., the first value corresponds to \"Apparent_Temperature\", etc. What is the difference between the ridge and lasso parameters? Which features, if any, have been eliminated by lasso?"
   ]
  },
  {
   "cell_type": "code",
   "execution_count": 23,
   "metadata": {},
   "outputs": [],
   "source": [
    "#Your code here"
   ]
  }
 ],
 "metadata": {
  "kernelspec": {
   "display_name": "Python 3",
   "language": "python",
   "name": "python3"
  },
  "language_info": {
   "codemirror_mode": {
    "name": "ipython",
    "version": 3
   },
   "file_extension": ".py",
   "mimetype": "text/x-python",
   "name": "python",
   "nbconvert_exporter": "python",
   "pygments_lexer": "ipython3",
   "version": "3.8.5"
  }
 },
 "nbformat": 4,
 "nbformat_minor": 2
}
